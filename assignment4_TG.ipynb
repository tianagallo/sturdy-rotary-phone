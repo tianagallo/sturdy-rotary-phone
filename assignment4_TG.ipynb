{
 "cells": [
  {
   "cell_type": "markdown",
   "metadata": {},
   "source": [
    "#### GDAA2030 Image Analytics - Assignment 4\n",
    "\n",
    "Submitted By: Tiana Gallo\n",
    "\n",
    "Submitted To: James Rapaport\n",
    "\n",
    "Due Date: April 17, 2024\n"
   ]
  },
  {
   "cell_type": "markdown",
   "metadata": {},
   "source": [
    "**Introduction**\n",
    "\n",
    "The aim of this assignment is to analyze crop yield using the NDVI vegetation index. This will be done on a broad scale using low spatial resolution data. While the data will have a low spatial resolution of 1km, the sensor has a high temporal resolution. The study area is Prince Edward Island and is refined by reference to a second dataset named the Annual Crop Inventory. The aim will be to select the NDVI for pixels with a high proportion of potato crop area, according to the ACI. "
   ]
  },
  {
   "cell_type": "code",
   "execution_count": 1,
   "metadata": {},
   "outputs": [],
   "source": [
    "import pyproj\n",
    "import rasterio \n",
    "import rasterio.mask\n",
    "import numpy as np\n",
    "import os\n",
    "import zipfile\n",
    "import rasterio\n",
    "import shapely\n",
    "import json\n",
    "from rasterio.mask import mask\n",
    "from rasterio.enums import Resampling\n",
    "from rasterio.features import rasterize\n",
    "from rasterio.transform import from_origin\n",
    "from shapely.geometry import shape, mapping\n",
    "from shapely.ops import transform\n",
    "from zipfile import ZipFile\n",
    "from rasterio.transform import Affine\n",
    "from shapely.geometry import shape, mapping\n",
    "from rasterio.warp import calculate_default_transform, reproject\n",
    "from shapely.geometry import box\n",
    "\n"
   ]
  },
  {
   "cell_type": "markdown",
   "metadata": {},
   "source": [
    "## Task 1"
   ]
  },
  {
   "cell_type": "markdown",
   "metadata": {},
   "source": [
    "**Reprojection**\n",
    "\n",
    "The first step in this project is to perform a reprojection of multiple annual crop inventory (ACI) datasets to match the coordinate reference system of an eVIIRS dataset. The eVIIRS dataset was opened using rasterio and it's CRS was extracted in order to be used as the target CRS for reprojection. Then, each year from 2013 - 2023 was iterated over and a file path was constructed to the corresponding ACI dataset. Still within the for loop, the ACI dataset was opened and the 'transform' function was used to match the CRS and dimensions of the eVIIRS dataset. The metadata for the ACI data was updated in order to reflect the new CRS, transformation, width and height. Then, each band of the ACI dataset was looped through and reprojected to match the CRS of the eVIIRS dataset, and was written to the output dataset."
   ]
  },
  {
   "cell_type": "code",
   "execution_count": 2,
   "metadata": {},
   "outputs": [
    {
     "name": "stdout",
     "output_type": "stream",
     "text": [
      "EPSG:4326\n",
      "EPSG:4326\n"
     ]
    }
   ],
   "source": [
    "\n",
    "aci_directory = 'C:/geospatial/assignment4_TG/annual-crop-inventory/'\n",
    "output_directory = 'C:/geospatial/assignment4_TG/reprojected-aci/'\n",
    "eviirs_zip_path = 'C:/geospatial/assignment4_TG/eviirs-ndvi-20231203.zip'\n",
    "years = [2013, 2014, 2015, 2016, 2017, 2018, 2019, 2020, 2021, 2022, 2023]\n",
    "\n",
    "with rasterio.open(f'zip+file://{eviirs_zip_path}!GN_eVSH_NDVI.2013.121-130.1KM.VI_NDVI.001.2023098064738.tif') as eviirs:\n",
    "    target_crs = eviirs.crs\n",
    "\n",
    "for year in years:\n",
    "    aci_zip_path = os.path.join(aci_directory, f'aci_{year}_pe.zip')\n",
    "    output_path = os.path.join(output_directory, f'reprojected_aci_{year}_pe.tif')\n",
    "\n",
    "    with rasterio.open(f'zip+file://{aci_zip_path}!/aci_{year}_pe.tif') as aci:\n",
    "        transform, width, height = calculate_default_transform(\n",
    "            aci.crs, target_crs, aci.width, aci.height, *aci.bounds)\n",
    "        \n",
    "        meta = aci.meta.copy()\n",
    "        meta.update({\n",
    "            'crs': target_crs,\n",
    "            'transform': transform,\n",
    "            'width': width,\n",
    "            'height': height\n",
    "        })\n",
    "\n",
    "        with rasterio.open(output_path, 'w', **meta) as output:\n",
    "            for i in range(1, aci.count + 1):\n",
    "                reproject(\n",
    "                    source=rasterio.band(aci, i),\n",
    "                    destination=rasterio.band(output, i),\n",
    "                    src_transform=aci.transform,\n",
    "                    src_crs=aci.crs,\n",
    "                    dst_transform=transform,\n",
    "                    dst_crs=target_crs,\n",
    "                    resampling=Resampling.nearest)\n",
    "\n",
    "\n",
    "print(output.crs) \n",
    "print(eviirs.crs) "
   ]
  },
  {
   "cell_type": "markdown",
   "metadata": {},
   "source": [
    "**Cropping**\n",
    "\n",
    "The next step in this project is to perform the cropping of the reprojected ACI datasets using the bounding box of the eVIIRS dataset. The bounds were extracted from the eVIIRS dataset and a polygon representing the bounding box was created. Again, the years from 2013 - 2023 were iterated over and a file path for the inputs and outputs were created using each year."
   ]
  },
  {
   "cell_type": "code",
   "execution_count": 3,
   "metadata": {},
   "outputs": [],
   "source": [
    "from rasterio.mask import mask\n",
    "cropped_directory = 'C:/geospatial/assignment4_TG/cropped_aci/'\n",
    "\n",
    "# Open the eVIIRS dataset to get its bounding box\n",
    "with rasterio.open(f'zip+file://{eviirs_zip_path}!GN_eVSH_NDVI.2013.121-130.1KM.VI_NDVI.001.2023098064738.tif') as eviirs:\n",
    "    # Create a bounding box polygon from the eVIIRS dataset\n",
    "    bbox = box(*eviirs.bounds)\n",
    "    bbox_geojson = json.loads(json.dumps(bbox.__geo_interface__))\n",
    "\n",
    "# Loop through each year to crop the reprojected ACI datasets\n",
    "for year in years:\n",
    "    input_path = os.path.join(output_directory, f'reprojected_aci_{year}_pe.tif')\n",
    "    output_path = os.path.join(cropped_directory, f'cropped_aci_{year}_pe.tif')\n",
    "    \n",
    "    # Check if the input reprojected ACI dataset exists\n",
    "    if os.path.exists(input_path):\n",
    "        # Open the reprojected ACI dataset\n",
    "        with rasterio.open(input_path) as src:\n",
    "            # Mask the reprojected ACI dataset using the bounding box\n",
    "            out_image, out_transform = mask(src, [bbox_geojson], crop=True)\n",
    "            out_meta = src.meta.copy()\n",
    "            \n",
    "            # Update metadata\n",
    "            out_meta.update({\"driver\": \"GTiff\",\n",
    "                             \"height\": out_image.shape[1],\n",
    "                             \"width\": out_image.shape[2],\n",
    "                             \"transform\": out_transform})\n",
    "            \n",
    "            # Write the cropped image\n",
    "            with rasterio.open(output_path, \"w\", **out_meta) as dest:\n",
    "                dest.write(out_image)\n",
    "    else:\n",
    "        print(f\"Input file {input_path} does not exist.\")\n"
   ]
  },
  {
   "cell_type": "markdown",
   "metadata": {},
   "source": [
    "**Calculate Proportion of Potato Fields**\n",
    "\n",
    "This next code chunk processes each year of the cropped ACI dataset and calculates the proportion of potato fields for each pixl in the eVIIRS image. It iterates through each pixel in the eVIIRS image and calculates the corresponding geometry for each pixel. The cropped ACI dataset had a mask applied using the geometry, cropping it to the extent of the pixel. Then the number of pixels with the value of 177, which indicates potato fields was counted, therefore calculating the proportion of potato fields for each pixel. The potato proportions were written to a new output raster dataset. "
   ]
  },
  {
   "cell_type": "code",
   "execution_count": 4,
   "metadata": {},
   "outputs": [],
   "source": [
    "raster_directory = 'C:/geospatial/assignment4_TG/'\n",
    "\n",
    "\n",
    "# Open the eVIIRS image to get its dimensions, pixel size, and CRS\n",
    "with rasterio.open(f'zip+file://{eviirs_zip_path}!GN_eVSH_NDVI.2013.121-130.1KM.VI_NDVI.001.2023098064738.tif', 'r') as eviirs:\n",
    "    eviirs_transform = eviirs.transform\n",
    "    eviirs_width = eviirs.width\n",
    "    eviirs_height = eviirs.height\n",
    "\n",
    "    # List of years for which ACI data is available\n",
    "    years = [2013, 2014, 2015, 2016, 2017, 2018, 2019, 2020, 2021, 2022, 2023]\n",
    "\n",
    "    # Loop through the specified list of years\n",
    "    for current_year in years:\n",
    "        aci_file_path = os.path.join(cropped_directory, f'cropped_aci_{current_year}_pe.tif')\n",
    "\n",
    "        with rasterio.open(aci_file_path, 'r') as aci:\n",
    "            potato_proportion = np.zeros((eviirs_height, eviirs_width), dtype=np.float32)\n",
    "            for row in range(eviirs_height):\n",
    "                for col in range(eviirs_width):\n",
    "                    x, y = eviirs_transform * (col, row) \n",
    "                    pixel_geom = box(x, y, x + eviirs_transform.a, y + eviirs_transform.e)\n",
    "                    geojson_geom = mapping(pixel_geom)\n",
    "\n",
    "                    # Use the geometry to mask the ACI dataset, cropping to the extent of the pixel\n",
    "                    try:\n",
    "                        out_image, out_transform = mask(aci, [geojson_geom], crop=True)\n",
    "                        potato_pixels = np.count_nonzero(out_image == 177)\n",
    "                        total_pixels = out_image.size \n",
    "\n",
    "                        if total_pixels > 0:\n",
    "                            potato_proportion[row, col] = (potato_pixels / total_pixels) * 100\n",
    "                        else:\n",
    "                            potato_proportion[row, col] = np.nan  \n",
    "                    except ValueError:\n",
    "                        potato_proportion[row, col] = np.nan\n",
    "\n",
    "            # Define the output raster file name\n",
    "            raster_file_name = os.path.join(raster_directory, f'potato_raster_{current_year}.tif')\n",
    "\n",
    "            # Write the proportion of potato fields to the new raster dataset\n",
    "            with rasterio.open(\n",
    "                raster_file_name,\n",
    "                'w',\n",
    "                driver='GTiff',\n",
    "                width=eviirs_width,\n",
    "                height=eviirs_height,\n",
    "                count=1,\n",
    "                dtype='float32',\n",
    "                crs=eviirs.crs,\n",
    "                transform=eviirs_transform\n",
    "            ) as potato_raster:\n",
    "                potato_raster.write(potato_proportion, 1)\n"
   ]
  },
  {
   "cell_type": "markdown",
   "metadata": {},
   "source": [
    "## Task 2\n",
    "\n",
    "The aim of task 2 is to produce a linear regression model plotting time-integrated NDVI against known potato yield. It will make use of the mask produced in task 1 to find pixels with a high proportion of potato cropping. The aci threshold is set to 75. I attempted to use a threshold of 80, but the largest percentage in my mask dataset for 2023 is 77.1, which is why I ended up setting the threshold to 75. Next we connect to the SQLite database that contains our agricultural data and fetches the average yield for potatoes in Prince Edward Island. In the main loop, each year is iterated over and a file path for the corresponding ACI file is constructed. The integrated NDVI is then calcualted for each year, and the average yield is also printed. Lastly, 'integrated_ndvi_values' and 'average_yield_values_ are converted from lists to numpy arrays. "
   ]
  },
  {
   "cell_type": "code",
   "execution_count": 10,
   "metadata": {},
   "outputs": [
    {
     "name": "stdout",
     "output_type": "stream",
     "text": [
      "Year: 2013, Average Yield: 301.7\n",
      "Year: 2014, Average Yield: 298.0\n",
      "Year: 2015, Average Yield: 291.3\n",
      "Year: 2016, Average Yield: 296.7\n",
      "Year: 2017, Average Yield: 294.0\n",
      "Year: 2018, Average Yield: 285.4\n",
      "Year: 2019, Average Yield: 289.3\n",
      "Year: 2020, Average Yield: 251.5\n",
      "Year: 2021, Average Yield: 322.0\n",
      "Year: 2022, Average Yield: 334.0\n",
      "Year: 2023, Average Yield: 311.0\n"
     ]
    }
   ],
   "source": [
    "import os\n",
    "import glob\n",
    "import numpy as np\n",
    "import rasterio\n",
    "from rasterio.mask import mask\n",
    "from shapely.geometry import box, mapping\n",
    "import json\n",
    "from scipy.integrate import trapz\n",
    "import sqlite3\n",
    "import zipfile\n",
    "import rasterio.features\n",
    "from rasterio.features import shapes\n",
    "\n",
    "\n",
    "aci_directory = 'C:/geospatial/assignment4_TG/annual-crop-inventory'\n",
    "cropped_directory = 'C:/geospatial/assignment4_TG/cropped_aci'\n",
    "eviirs_directory = 'C:/geospatial/assignment4_TG/eviirs-ndvi-20231203' \n",
    "years = [2013, 2014, 2015, 2016, 2017, 2018, 2019, 2020, 2021, 2022, 2023]\n",
    "\n",
    " \n",
    "# Define the threshold for potato proportion\n",
    "threshold = 75\n",
    "\n",
    "# Initialize empty lists to store NDVI and yield values\n",
    "integrated_ndvi_values = [] \n",
    "average_yield_values = [] \n",
    " \n",
    "# Function to find all eVIIRS GeoTIFF files for a given year\n",
    "def find_eviirs_files(year):\n",
    "    pattern = f'GN_eVSH_NDVI.{year}*.tif'\n",
    "    file_paths = glob.glob(os.path.join(eviirs_directory, pattern))\n",
    "    file_paths = [path for path in file_paths if 'QUAL' not in os.path.basename(path)]\n",
    "    return file_paths\n",
    " \n",
    " \n",
    "# Function to calculate integrated NDVI profile for all files found for a given year\n",
    "def calculate_integrated_ndvi_profile(crop_filename, year, threshold):\n",
    "    integrated_ndvi_profile = []\n",
    "    day_numbers = []  \n",
    " \n",
    "    # Find all eVIIRS files for the year\n",
    "    file_paths = find_eviirs_files(year)\n",
    "    for file_path in file_paths:\n",
    "        day_numbers.append(int(file_path.split('.')[2][4:7]))  \n",
    "        try:\n",
    "            with rasterio.open(file_path) as eviirs_ndvi:\n",
    "                with rasterio.open(crop_filename, 'r') as crop_proportion:\n",
    "                    ndvi_data = eviirs_ndvi.read(1)\n",
    "                    crop_proportion_mask = crop_proportion.read(1) >= threshold\n",
    "                    ndvi_data = ndvi_data * crop_proportion_mask\n",
    "                    mean_ndvi = np.mean(ndvi_data[ndvi_data != 0]) / 10000  \n",
    "                    integrated_ndvi_profile.append(mean_ndvi)\n",
    "        except Exception as e:\n",
    "            print(f\"Error processing file {file_path}: {e}\")\n",
    " \n",
    "    # Integrate the NDVI profile using trapz, with dx representing the number of days between images if known or 1 as default\n",
    "    integrated_ndvi = trapz(integrated_ndvi_profile, day_numbers)  # Adjust dx as needed\n",
    "    integrated_ndvi_values.append(integrated_ndvi)\n",
    " \n",
    "    return integrated_ndvi\n",
    "\n",
    " \n",
    "# Connect to the SQLite database\n",
    "conn = sqlite3.connect(r'C:\\geospatial\\assignment4_TG\\statistics-canada\\statistics-canada.db')\n",
    "cursor = conn.cursor()\n",
    " \n",
    "# Loop through each year\n",
    "for current_year in years:\n",
    "    aci_file_path = os.path.join(raster_directory, f'potato_raster_{current_year}.tif')\n",
    "    integrated_ndvi = calculate_integrated_ndvi_profile(aci_file_path, current_year, threshold)\n",
    " \n",
    "    # Fetch yield data for the current year\n",
    "    cursor.execute(\"\"\"\n",
    "        select year, name, average_yield\n",
    "        from potato_production \n",
    "        where year = ? and name = 'Prince Edward Island'\n",
    "        order by year\n",
    "    \"\"\", (current_year,))\n",
    "    \n",
    "    \n",
    "    result = cursor.fetchone()\n",
    "    if result:\n",
    "        year, name, average_yield = result\n",
    "        print(f\"Year: {year}, Average Yield: {average_yield}\")\n",
    "        average_yield_values.append(average_yield)\n",
    "    else:\n",
    "        print(f\"No data found for year {current_year}\")\n",
    " \n",
    "# Close the SQLite connection\n",
    "conn.close()\n",
    "\n",
    "#Convert lists to numpy arrays\n",
    "integrated_ndvi_array = np.array(integrated_ndvi_values)\n",
    "average_yield_array = np.array(average_yield_values)\n",
    "\n"
   ]
  },
  {
   "cell_type": "markdown",
   "metadata": {},
   "source": [
    "The last step is to generate a yield model using a scatter plot and linear regression. The dependent variables on the y-axis is yield and the independent variable on the x-axis is integrated NDVI. A function 'predict(x)' is defned to predict the potato yield based on the integrated NDVI using the calculated slope and intercept. By using the 'predict()' function, a regression line is generated based on the calculated slope and intercept. "
   ]
  },
  {
   "cell_type": "code",
   "execution_count": 11,
   "metadata": {},
   "outputs": [
    {
     "data": {
      "image/png": "[encoded data removed]",
      "text/plain": [
       "<Figure size 640x480 with 1 Axes>"
      ]
     },
     "metadata": {},
     "output_type": "display_data"
    }
   ],
   "source": [
    "\n",
    "import matplotlib.pyplot as plt\n",
    "from scipy.stats import linregress\n",
    " \n",
    "ndvi = integrated_ndvi_array\n",
    "potato_yield = average_yield_array\n",
    " \n",
    "# Check if inputs are not empty and have more than one element\n",
    "if ndvi.size > 1 and potato_yield.size > 1:\n",
    "    # Perform linear regression\n",
    "    slope, intercept, r_value, p_value, std_err = linregress(ndvi, potato_yield)\n",
    " \n",
    "    # Predict function\n",
    "    def predict(x):\n",
    "        return slope * x + intercept\n",
    " \n",
    "    # Generate regression line\n",
    "    fit_line = predict(ndvi)\n",
    " \n",
    "    # Plotting\n",
    "    plt.scatter(ndvi, potato_yield, color='blue')  # Data points\n",
    "    plt.plot(ndvi, fit_line, color='red')  # Regression line\n",
    "    plt.xlabel('Integrated NDVI')\n",
    "    plt.ylabel('Yield')\n",
    "    plt.title('Yield vs. Integrated NDVI')\n",
    "    plt.text(min(ndvi), max(potato_yield), f'y = {slope:.2f}x + {intercept:.2f}\\n$R^2$ = {r_value**2:.2f}', fontsize=12, ha='center')\n",
    "    plt.show()\n",
    "else:\n",
    "    print(\"Error: Not enough data points for regression analysis.\")"
   ]
  },
  {
   "cell_type": "markdown",
   "metadata": {},
   "source": [
    "The final graph shows the linear regression output from my analysis. It shows a linear relationship between potato yield and integrated NDVI. The R squared value is 0.65 indicating that NDVI accounts for only around 60% of the variation in yield. There are multiple other environmental variables that could be included to improve the relationship such as soil pH, temperature, and rainfall amounts. Slope could also be taken into account as it affects factors such as solar radiation, moisture availability, and soil charactersitics that can have an influence on vegetation. Other than feature engineering to add additional features in order to improve the model, I could also have preprocessed the data to evaluate it for outliers, missing data, or skewness. Implementing cross-validation techniques to assess the generalization performance of the model and mitigate overfitting could also enhance the model's performance. There are multiple other changes and different approcahes that could be used to refine the linear model regression, but overall I find it very interesting to use these types of models to demonstrate their predictive capabilites for estimateing potato yield based on integrated NDVI values. "
   ]
  }
 ],
 "metadata": {
  "kernelspec": {
   "display_name": "geospatial",
   "language": "python",
   "name": "python3"
  },
  "language_info": {
   "codemirror_mode": {
    "name": "ipython",
    "version": 3
   },
   "file_extension": ".py",
   "mimetype": "text/x-python",
   "name": "python",
   "nbconvert_exporter": "python",
   "pygments_lexer": "ipython3",
   "version": "3.8.10"
  }
 },
 "nbformat": 4,
 "nbformat_minor": 2
}
